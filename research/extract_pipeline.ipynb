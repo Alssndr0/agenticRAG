{
 "cells": [
  {
   "cell_type": "code",
   "execution_count": 1,
   "metadata": {},
   "outputs": [
    {
     "name": "stderr",
     "output_type": "stream",
     "text": [
      "/Users/alessandro/miniconda3/envs/ixchange/lib/python3.10/site-packages/tqdm/auto.py:21: TqdmWarning: IProgress not found. Please update jupyter and ipywidgets. See https://ipywidgets.readthedocs.io/en/stable/user_install.html\n",
      "  from .autonotebook import tqdm as notebook_tqdm\n"
     ]
    }
   ],
   "source": [
    "import json\n",
    "import sys\n",
    "from pathlib import Path\n",
    "\n",
    "sys.path.append(str(Path().resolve().parent))\n",
    "\n",
    "from extract import convert_pdf_with_vlm\n"
   ]
  },
  {
   "cell_type": "code",
   "execution_count": 3,
   "metadata": {},
   "outputs": [],
   "source": [
    "extraction = convert_pdf_with_vlm(\n",
    "    \"/Users/alessandro/Development/generalRAG/data/original/Fact-Sheets.pdf\"\n",
    ")\n"
   ]
  },
  {
   "cell_type": "code",
   "execution_count": 11,
   "metadata": {},
   "outputs": [],
   "source": [
    "from typing import List\n",
    "\n",
    "from docling_core.types.doc.document import PictureItem\n",
    "\n",
    "\n",
    "def insert_image_descriptions(\n",
    "    markdown_text: str, picture_items: List[PictureItem]\n",
    ") -> str:\n",
    "    \"\"\"\n",
    "    Inserts image descriptions from picture_items into markdown text.\n",
    "\n",
    "    Finds '<!-- image -->' tags in the markdown and inserts the description\n",
    "    from the corresponding PictureItem immediately after it, preceded by\n",
    "    'image_description: '.\n",
    "\n",
    "    Args:\n",
    "        markdown_text: The markdown content as a string.\n",
    "        picture_items: A list of PictureItem objects, each containing\n",
    "                       at least one annotation with description text.\n",
    "                       The order must match the order of '<!-- image -->' tags.\n",
    "\n",
    "    Returns:\n",
    "        The modified markdown string with descriptions inserted.\n",
    "\n",
    "    Raises:\n",
    "        AssertionError: If the number of '<!-- image -->' tags does not\n",
    "                        match the number of items in picture_items.\n",
    "        RuntimeError: If placeholder tags cannot be found sequentially as expected.\n",
    "        # Note: ValueError previously mentioned for missing annotations/text\n",
    "        # is now handled with warnings and default text, but could be reinstated.\n",
    "    \"\"\"\n",
    "    image_placeholder = \"<!-- image -->\"\n",
    "    image_description_prefix = \"image_description:\"\n",
    "\n",
    "    # 1. Count occurrences\n",
    "    image_tag_count = markdown_text.count(image_placeholder)\n",
    "    description_count = len(picture_items)\n",
    "\n",
    "    # 2. Assert counts match\n",
    "    assert image_tag_count == description_count, (\n",
    "        f\"Mismatch: Found {image_tag_count} '{image_placeholder}' tags \"\n",
    "        f\"but received {description_count} picture items.\"\n",
    "    )\n",
    "\n",
    "    # 3. Iterate and replace sequentially\n",
    "    current_markdown = markdown_text\n",
    "    last_pos = 0  # Keep track of where to search from for the next placeholder\n",
    "\n",
    "    for i in range(description_count):\n",
    "        # Find the *next* placeholder starting from after the last one found\n",
    "        placeholder_pos = current_markdown.find(image_placeholder, last_pos)\n",
    "\n",
    "        if placeholder_pos == -1:\n",
    "            # This shouldn't happen if the initial count was correct, but defensive check\n",
    "            raise RuntimeError(\n",
    "                f\"Error: Could not find placeholder instance {i + 1} after position {last_pos}. \"\n",
    "                \"Markdown may have been modified unexpectedly.\"\n",
    "            )\n",
    "\n",
    "        # Get the description text safely\n",
    "        if not picture_items[i].annotations:\n",
    "            # Handle case with no annotations for a picture item\n",
    "            print(\n",
    "                f\"Warning: PictureItem index {i} has no annotations. Using default text.\"\n",
    "            )\n",
    "            description_text = \"No description available.\"\n",
    "            # Or raise ValueError(\"PictureItem index {} has no annotations.\".format(i))\n",
    "        else:\n",
    "            # Assuming the first annotation is the relevant description\n",
    "            first_annotation = picture_items[i].annotations[0]\n",
    "            if hasattr(first_annotation, \"text\") and first_annotation.text:\n",
    "                description_text = (\n",
    "                    first_annotation.text.strip()\n",
    "                )  # Remove leading/trailing whitespace\n",
    "            else:\n",
    "                # Handle case where the annotation exists but has no text\n",
    "                print(\n",
    "                    f\"Warning: Annotation for PictureItem index {i} has no text. Using default text.\"\n",
    "                )\n",
    "                description_text = \"Description text missing.\"\n",
    "                # Or raise ValueError(\"Annotation for PictureItem index {} has no text.\".format(i))\n",
    "\n",
    "        # Perform the replacement by inserting *after* the placeholder\n",
    "        # Find the end of the placeholder tag\n",
    "        placeholder_end_pos = placeholder_pos + len(image_placeholder)\n",
    "\n",
    "        # Define the text to insert (adding newlines for readability)\n",
    "        inserted_text = f\"{image_description_prefix} {description_text}\\n\"\n",
    "\n",
    "        # Build the new string by slicing and inserting\n",
    "        current_markdown = (\n",
    "            current_markdown[\n",
    "                :placeholder_end_pos\n",
    "            ]  # Part before and including placeholder\n",
    "            + inserted_text  # The inserted description text\n",
    "            + current_markdown[placeholder_end_pos:]  # The rest of the string\n",
    "        )\n",
    "\n",
    "        # Update last_pos to search *after* the inserted text for the next placeholder\n",
    "        # We need to account for the length of the text we just added.\n",
    "        last_pos = placeholder_end_pos + len(inserted_text)\n",
    "\n",
    "    # 4. Return the modified string\n",
    "    return current_markdown"
   ]
  },
  {
   "cell_type": "code",
   "execution_count": 12,
   "metadata": {},
   "outputs": [],
   "source": [
    "markdown_image = insert_image_descriptions(\n",
    "    extraction.document.export_to_markdown(), extraction.document.pictures\n",
    ")"
   ]
  },
  {
   "cell_type": "code",
   "execution_count": null,
   "metadata": {},
   "outputs": [],
   "source": [
    "extraction.document.export_to_dict()"
   ]
  },
  {
   "cell_type": "code",
   "execution_count": 29,
   "metadata": {},
   "outputs": [],
   "source": [
    "with open(\"data.json\", \"w\") as f:\n",
    "    json.dump(extraction.document.export_to_dict(), f)"
   ]
  },
  {
   "cell_type": "code",
   "execution_count": 30,
   "metadata": {},
   "outputs": [],
   "source": [
    "with open(\"html_data.json\", \"w\") as f:\n",
    "    json.dump(extraction.document.export_to_html(), f)"
   ]
  },
  {
   "cell_type": "code",
   "execution_count": 13,
   "metadata": {},
   "outputs": [],
   "source": [
    "with open(\"markdown_imagedata.json\", \"w\") as f:\n",
    "    json.dump(markdown_image, f)"
   ]
  },
  {
   "cell_type": "code",
   "execution_count": 33,
   "metadata": {},
   "outputs": [
    {
     "name": "stdout",
     "output_type": "stream",
     "text": [
      "32\n"
     ]
    }
   ],
   "source": [
    "print(len(extraction.document.pictures))"
   ]
  },
  {
   "cell_type": "code",
   "execution_count": 1,
   "metadata": {},
   "outputs": [],
   "source": [
    "import json\n",
    "import re\n",
    "\n",
    "from docling_core.types.doc.document import PictureDescriptionData\n",
    "\n",
    "\n",
    "def insert_image_annotations(json_path, output_path, doc):\n",
    "    # Load the original JSON content\n",
    "    with open(json_path, \"r\", encoding=\"utf-8\") as f:\n",
    "        content = json.load(f)\n",
    "\n",
    "    # Count image tags in the content\n",
    "    image_tags = list(re.finditer(r\"<!--\\s*image\\s*-->\", content))\n",
    "    image_count = len(image_tags)\n",
    "\n",
    "    # Ensure the counts match\n",
    "    if image_count != len(doc.pictures):\n",
    "        raise ValueError(\n",
    "            f\"Mismatch: {image_count} <!-- image --> tags vs {len(doc.pictures)} images in doc.pictures\"\n",
    "        )\n",
    "\n",
    "    # Split the content at each image tag\n",
    "    parts = re.split(r\"(<!--\\s*image\\s*-->)\", content)\n",
    "    print(parts)\n",
    "\n",
    "    # New buffer for modified content\n",
    "    new_parts = []\n",
    "    image_index = 0\n",
    "\n",
    "    for part in parts:\n",
    "        new_parts.append(part)\n",
    "        if part.strip() == \"<!-- image -->\":\n",
    "            pic = doc.pictures[image_index]\n",
    "            html_item = (\n",
    "                f\"<h3>Picture <code>{pic.self_ref}</code></h3>\"\n",
    "                f'<img src=\"{str(pic.image.uri)}\" /><br />'\n",
    "                f\"<h4>Caption</h4>{pic.caption_text(doc=doc)}<br />\"\n",
    "            )\n",
    "            for annotation in pic.annotations:\n",
    "                if not isinstance(annotation, PictureDescriptionData):\n",
    "                    continue\n",
    "                html_item += f\"<h4>Annotations ({annotation.provenance})</h4>{annotation.text}<br />\\n\"\n",
    "            new_parts.append(html_item)\n",
    "            image_index += 1\n",
    "\n",
    "    # Join and save updated content\n",
    "    modified_content = \"\".join(new_parts)\n",
    "    with open(output_path, \"w\", encoding=\"utf-8\") as f:\n",
    "        json.dump(modified_content, f, ensure_ascii=False, indent=2)\n",
    "\n",
    "    print(f\"Modified content saved to: {output_path}\")"
   ]
  },
  {
   "cell_type": "code",
   "execution_count": null,
   "metadata": {},
   "outputs": [
    {
     "ename": "NameError",
     "evalue": "name 'extraction' is not defined",
     "output_type": "error",
     "traceback": [
      "\u001b[0;31m---------------------------------------------------------------------------\u001b[0m",
      "\u001b[0;31mNameError\u001b[0m                                 Traceback (most recent call last)",
      "Cell \u001b[0;32mIn[2], line 4\u001b[0m\n\u001b[1;32m      1\u001b[0m insert_image_annotations(\n\u001b[1;32m      2\u001b[0m     json_path\u001b[38;5;241m=\u001b[39m\u001b[38;5;124m\"\u001b[39m\u001b[38;5;124m/Users/alessandro/Development/generalRAG/extract/markdown_data.json\u001b[39m\u001b[38;5;124m\"\u001b[39m,\n\u001b[1;32m      3\u001b[0m     output_path\u001b[38;5;241m=\u001b[39m\u001b[38;5;124m\"\u001b[39m\u001b[38;5;124mmarkdown_data_with_images.json\u001b[39m\u001b[38;5;124m\"\u001b[39m,\n\u001b[0;32m----> 4\u001b[0m     doc\u001b[38;5;241m=\u001b[39m\u001b[43mextraction\u001b[49m\u001b[38;5;241m.\u001b[39mdocument\n\u001b[1;32m      5\u001b[0m )\n",
      "\u001b[0;31mNameError\u001b[0m: name 'extraction' is not defined"
     ]
    }
   ],
   "source": [
    "insert_image_annotations(\n",
    "    json_path=\"/Users/alessandro/Development/generalRAG/extract/markdown_data.json\",\n",
    "    output_path=\"markdown_data_with_images.json\",\n",
    "    doc=extraction.document,\n",
    ")"
   ]
  },
  {
   "cell_type": "code",
   "execution_count": null,
   "metadata": {},
   "outputs": [],
   "source": []
  },
  {
   "cell_type": "code",
   "execution_count": null,
   "metadata": {},
   "outputs": [],
   "source": []
  },
  {
   "cell_type": "code",
   "execution_count": null,
   "metadata": {},
   "outputs": [],
   "source": []
  }
 ],
 "metadata": {
  "kernelspec": {
   "display_name": "ixchange",
   "language": "python",
   "name": "python3"
  },
  "language_info": {
   "codemirror_mode": {
    "name": "ipython",
    "version": 3
   },
   "file_extension": ".py",
   "mimetype": "text/x-python",
   "name": "python",
   "nbconvert_exporter": "python",
   "pygments_lexer": "ipython3",
   "version": "3.10.16"
  }
 },
 "nbformat": 4,
 "nbformat_minor": 2
}
