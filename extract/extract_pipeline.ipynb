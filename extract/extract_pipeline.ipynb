{
 "cells": [
  {
   "cell_type": "code",
   "execution_count": null,
   "metadata": {},
   "outputs": [],
   "source": [
    "import sys\n",
    "from pathlib import Path\n",
    "\n",
    "from extract import convert_pdf_with_vlm\n",
    "\n",
    "sys.path.append(str(Path().resolve().parent))"
   ]
  },
  {
   "cell_type": "code",
   "execution_count": null,
   "metadata": {},
   "outputs": [],
   "source": [
    "extraction = convert_pdf_with_vlm(\n",
    "    \"/Users/alessandro/Development/generalRAG/data/original/Fact-Sheets.pdf\"\n",
    ")\n"
   ]
  },
  {
   "cell_type": "code",
   "execution_count": null,
   "metadata": {},
   "outputs": [],
   "source": [
    "extraction"
   ]
  },
  {
   "cell_type": "code",
   "execution_count": null,
   "metadata": {},
   "outputs": [],
   "source": [
    "extraction.document.export_to_dict()"
   ]
  },
  {
   "cell_type": "code",
   "execution_count": 29,
   "metadata": {},
   "outputs": [],
   "source": [
    "import json\n",
    "\n",
    "with open(\"data.json\", \"w\") as f:\n",
    "    json.dump(extraction.document.export_to_dict(), f)"
   ]
  },
  {
   "cell_type": "code",
   "execution_count": 30,
   "metadata": {},
   "outputs": [],
   "source": [
    "with open(\"html_data.json\", \"w\") as f:\n",
    "    json.dump(extraction.document.export_to_html(), f)"
   ]
  },
  {
   "cell_type": "code",
   "execution_count": 31,
   "metadata": {},
   "outputs": [],
   "source": [
    "with open(\"markdown_data.json\", \"w\") as f:\n",
    "    json.dump(extraction.document.export_to_markdown(), f)"
   ]
  },
  {
   "cell_type": "code",
   "execution_count": 33,
   "metadata": {},
   "outputs": [
    {
     "name": "stdout",
     "output_type": "stream",
     "text": [
      "32\n"
     ]
    }
   ],
   "source": [
    "print(len(extraction.document.pictures))"
   ]
  },
  {
   "cell_type": "code",
   "execution_count": 36,
   "metadata": {},
   "outputs": [
    {
     "name": "stderr",
     "output_type": "stream",
     "text": [
      "\u001b[32m2025-04-08 22:53:47.065\u001b[0m | \u001b[1mINFO    \u001b[0m | \u001b[36m__main__\u001b[0m:\u001b[36m<module>\u001b[0m:\u001b[36m2\u001b[0m - \u001b[1ma\u001b[0m\n"
     ]
    }
   ],
   "source": [
    "from loguru import logger\n",
    "\n",
    "logger.info(\"a\")"
   ]
  },
  {
   "cell_type": "code",
   "execution_count": 38,
   "metadata": {},
   "outputs": [
    {
     "name": "stdout",
     "output_type": "stream",
     "text": [
      "This goes to notebook output\n",
      "This goes to the terminal (if not captured by Jupyter)\n"
     ]
    },
    {
     "data": {
      "text/plain": [
       "55"
      ]
     },
     "execution_count": 38,
     "metadata": {},
     "output_type": "execute_result"
    }
   ],
   "source": [
    "import sys\n",
    "\n",
    "print(\"This goes to notebook output\")\n",
    "\n",
    "# This attempts to write directly to terminal stdout\n",
    "sys.__stdout__.write(\"This goes to the terminal (if not captured by Jupyter)\\n\")"
   ]
  },
  {
   "cell_type": "code",
   "execution_count": 40,
   "metadata": {},
   "outputs": [],
   "source": [
    "log_file = open(\"log.txt\", \"a\")\n",
    "log_file.write(f\"{len(extraction.document.pictures)}\\n\")\n",
    "log_file.flush()  # Ensure it writes immediately\n"
   ]
  },
  {
   "cell_type": "code",
   "execution_count": 1,
   "metadata": {},
   "outputs": [],
   "source": [
    "import json\n",
    "import re\n",
    "\n",
    "from docling_core.types.doc.document import PictureDescriptionData\n",
    "\n",
    "\n",
    "def insert_image_annotations(json_path, output_path, doc):\n",
    "    # Load the original JSON content\n",
    "    with open(json_path, \"r\", encoding=\"utf-8\") as f:\n",
    "        content = json.load(f)\n",
    "\n",
    "    # Count image tags in the content\n",
    "    image_tags = list(re.finditer(r\"<!--\\s*image\\s*-->\", content))\n",
    "    image_count = len(image_tags)\n",
    "\n",
    "    # Ensure the counts match\n",
    "    if image_count != len(doc.pictures):\n",
    "        raise ValueError(\n",
    "            f\"Mismatch: {image_count} <!-- image --> tags vs {len(doc.pictures)} images in doc.pictures\"\n",
    "        )\n",
    "\n",
    "    # Split the content at each image tag\n",
    "    parts = re.split(r\"(<!--\\s*image\\s*-->)\", content)\n",
    "    print(parts)\n",
    "\n",
    "    # New buffer for modified content\n",
    "    new_parts = []\n",
    "    image_index = 0\n",
    "\n",
    "    for part in parts:\n",
    "        new_parts.append(part)\n",
    "        if part.strip() == \"<!-- image -->\":\n",
    "            pic = doc.pictures[image_index]\n",
    "            html_item = (\n",
    "                f\"<h3>Picture <code>{pic.self_ref}</code></h3>\"\n",
    "                f'<img src=\"{str(pic.image.uri)}\" /><br />'\n",
    "                f\"<h4>Caption</h4>{pic.caption_text(doc=doc)}<br />\"\n",
    "            )\n",
    "            for annotation in pic.annotations:\n",
    "                if not isinstance(annotation, PictureDescriptionData):\n",
    "                    continue\n",
    "                html_item += f\"<h4>Annotations ({annotation.provenance})</h4>{annotation.text}<br />\\n\"\n",
    "            new_parts.append(html_item)\n",
    "            image_index += 1\n",
    "\n",
    "    # Join and save updated content\n",
    "    modified_content = \"\".join(new_parts)\n",
    "    with open(output_path, \"w\", encoding=\"utf-8\") as f:\n",
    "        json.dump(modified_content, f, ensure_ascii=False, indent=2)\n",
    "\n",
    "    print(f\"Modified content saved to: {output_path}\")"
   ]
  },
  {
   "cell_type": "code",
   "execution_count": null,
   "metadata": {},
   "outputs": [
    {
     "ename": "NameError",
     "evalue": "name 'extraction' is not defined",
     "output_type": "error",
     "traceback": [
      "\u001b[0;31m---------------------------------------------------------------------------\u001b[0m",
      "\u001b[0;31mNameError\u001b[0m                                 Traceback (most recent call last)",
      "Cell \u001b[0;32mIn[2], line 4\u001b[0m\n\u001b[1;32m      1\u001b[0m insert_image_annotations(\n\u001b[1;32m      2\u001b[0m     json_path\u001b[38;5;241m=\u001b[39m\u001b[38;5;124m\"\u001b[39m\u001b[38;5;124m/Users/alessandro/Development/generalRAG/extract/markdown_data.json\u001b[39m\u001b[38;5;124m\"\u001b[39m,\n\u001b[1;32m      3\u001b[0m     output_path\u001b[38;5;241m=\u001b[39m\u001b[38;5;124m\"\u001b[39m\u001b[38;5;124mmarkdown_data_with_images.json\u001b[39m\u001b[38;5;124m\"\u001b[39m,\n\u001b[0;32m----> 4\u001b[0m     doc\u001b[38;5;241m=\u001b[39m\u001b[43mextraction\u001b[49m\u001b[38;5;241m.\u001b[39mdocument\n\u001b[1;32m      5\u001b[0m )\n",
      "\u001b[0;31mNameError\u001b[0m: name 'extraction' is not defined"
     ]
    }
   ],
   "source": [
    "insert_image_annotations(\n",
    "    json_path=\"/Users/alessandro/Development/generalRAG/extract/markdown_data.json\",\n",
    "    output_path=\"markdown_data_with_images.json\",\n",
    "    doc=extraction.document,\n",
    ")"
   ]
  },
  {
   "cell_type": "code",
   "execution_count": null,
   "metadata": {},
   "outputs": [],
   "source": []
  },
  {
   "cell_type": "code",
   "execution_count": null,
   "metadata": {},
   "outputs": [],
   "source": []
  },
  {
   "cell_type": "code",
   "execution_count": null,
   "metadata": {},
   "outputs": [],
   "source": []
  }
 ],
 "metadata": {
  "kernelspec": {
   "display_name": "ixchange",
   "language": "python",
   "name": "python3"
  },
  "language_info": {
   "codemirror_mode": {
    "name": "ipython",
    "version": 3
   },
   "file_extension": ".py",
   "mimetype": "text/x-python",
   "name": "python",
   "nbconvert_exporter": "python",
   "pygments_lexer": "ipython3",
   "version": "3.10.16"
  }
 },
 "nbformat": 4,
 "nbformat_minor": 2
}
